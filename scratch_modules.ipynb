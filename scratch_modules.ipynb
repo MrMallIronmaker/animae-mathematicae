{
 "cells": [
  {
   "cell_type": "code",
   "execution_count": 1,
   "metadata": {
    "scrolled": true
   },
   "outputs": [
    {
     "name": "stderr",
     "output_type": "stream",
     "text": [
      "/home/mark/miniprojects/math/animations/venv/lib/python3.5/site-packages/ipykernel_launcher.py:5: PyGIWarning: Rsvg was imported without specifying a version first. Use gi.require_version('Rsvg', '2.0') before import to ensure that the right version gets loaded.\n",
      "  \"\"\"\n"
     ]
    }
   ],
   "source": [
    "from latex2svg import latex2svg as l2s, default_params\n",
    "import cairo\n",
    "from IPython import display\n",
    "import math\n",
    "\n",
    "from gi.repository import Rsvg"
   ]
  },
  {
   "cell_type": "code",
   "execution_count": 2,
   "metadata": {
    "collapsed": true
   },
   "outputs": [],
   "source": [
    "my_params = default_params\n",
    "my_params['fontsize'] = 12\n",
    "out = l2s(r'\\( e^{i \\pi} = -1 \\)', params=my_params, working_directory=\"./tmp\")"
   ]
  },
  {
   "cell_type": "code",
   "execution_count": 7,
   "metadata": {
    "collapsed": true
   },
   "outputs": [],
   "source": [
    "WIDTH, HEIGHT = 256, 256\n",
    "\n",
    "surface = cairo.ImageSurface(cairo.FORMAT_ARGB32, WIDTH, HEIGHT)\n",
    "ctx = cairo.Context(surface)\n",
    "\n",
    "\n",
    "ctx.scale(WIDTH, HEIGHT)  # Normalizing the canvas\n",
    "\n",
    "pat = cairo.LinearGradient(0.0, 0.0, 0.0, 1.0)\n",
    "pat.add_color_stop_rgba(1, 0.7, 0, 0, 0.5)  # First stop, 50% opacity\n",
    "pat.add_color_stop_rgba(0, 0.9, 0.7, 0.2, 1)  # Last stop, 100% opacity\n",
    "\n",
    "ctx.rectangle(0, 0, 1, 1)  # Rectangle(x0, y0, x1, y1)\n",
    "ctx.set_source(pat)\n",
    "ctx.fill()\n",
    "\n",
    "ctx.translate(0.1, 0.1)  # Changing the current transformation matrix\n",
    "\n",
    "ctx.move_to(0, 0)\n",
    "# Arc(cx, cy, radius, start_angle, stop_angle)\n",
    "ctx.arc(0.2, 0.1, 0.1, -math.pi / 2, 0)\n",
    "ctx.line_to(0.5, 0.1)  # Line to (x,y)\n",
    "# Curve(x1, y1, x2, y2, x3, y3)\n",
    "ctx.curve_to(0.5, 0.2, 0.5, 0.4, 0.2, 0.8)\n",
    "ctx.close_path()\n",
    "\n",
    "ctx.set_source_rgb(0.3, 0.2, 0.5)  # Solid color\n",
    "ctx.set_line_width(0.02)\n",
    "ctx.stroke()\n",
    "\n",
    "svg_surface = surface.create_for_rectangle(64, 128, 256 - 64, 128) # x, y, w, h\n",
    "\n",
    "svg_context = cairo.Context(svg_surface)\n",
    "svg_context.scale(3, 3)\n",
    "\n",
    "# use rsvg to render the cairo context                                      \n",
    "handle = Rsvg.Handle()\n",
    "svg = handle.new_from_file(\"./tmp/code.svg\")\n",
    "svg.render_cairo(svg_context)\n",
    "svg.close()\n",
    "\n",
    "surface.write_to_png(\"./tmp/example2.png\")  # Output to PNG\n",
    "surface.finish()\n"
   ]
  },
  {
   "cell_type": "code",
   "execution_count": 8,
   "metadata": {},
   "outputs": [
    {
     "data": {
      "image/png": "[encoded data removed]",
      "text/plain": [
       "<IPython.core.display.Image object>"
      ]
     },
     "execution_count": 8,
     "metadata": {},
     "output_type": "execute_result"
    }
   ],
   "source": [
    "display.Image(\"./tmp/example2.png\")"
   ]
  },
  {
   "cell_type": "code",
   "execution_count": null,
   "metadata": {
    "collapsed": true
   },
   "outputs": [],
   "source": []
  }
 ],
 "metadata": {
  "kernelspec": {
   "display_name": "Python 3",
   "language": "python",
   "name": "python3"
  },
  "language_info": {
   "codemirror_mode": {
    "name": "ipython",
    "version": 3
   },
   "file_extension": ".py",
   "mimetype": "text/x-python",
   "name": "python",
   "nbconvert_exporter": "python",
   "pygments_lexer": "ipython3",
   "version": "3.5.2"
  }
 },
 "nbformat": 4,
 "nbformat_minor": 2
}
